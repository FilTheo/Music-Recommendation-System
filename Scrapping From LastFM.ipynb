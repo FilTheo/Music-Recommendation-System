{
 "cells": [
  {
   "cell_type": "markdown",
   "metadata": {},
   "source": [
    "#### Setting up the Request"
   ]
  },
  {
   "cell_type": "code",
   "execution_count": null,
   "metadata": {},
   "outputs": [],
   "source": [
    "import requests\n",
    "from requests.adapters import HTTPAdapter\n",
    "from requests.packages.urllib3.util.retry import Retry\n",
    "import json\n",
    "import pandas as pd\n",
    "import time\n",
    "\n",
    "\n",
    "\n",
    "API_KEY='api_key'\n",
    "USER_AGENT='name'\n",
    "headers={'user-agent': USER_AGENT}\n",
    "payload={'api_key':'api_key' ,\n",
    "        'method': 'chart.gettopartists',\n",
    "        'format': 'json'}\n",
    "r=requests.get('http://ws.audioscrobbler.com/2.0/', headers = headers , params = payload)\n",
    "r.status_code\n"
   ]
  },
  {
   "cell_type": "markdown",
   "metadata": {},
   "source": [
    "#### Testing the status of the request"
   ]
  },
  {
   "cell_type": "code",
   "execution_count": null,
   "metadata": {},
   "outputs": [],
   "source": [
    "test=requests.get('http://ws.audioscrobbler.com/2.0/', headers={'user-agent':'name'} , \n",
    "                  params = {'api_key':'api_key' , 'method': 'chart.gettopartists' , 'format': 'json'})\n",
    "test.status_code"
   ]
  },
  {
   "cell_type": "markdown",
   "metadata": {},
   "source": [
    "#### Checking json's format"
   ]
  },
  {
   "cell_type": "code",
   "execution_count": null,
   "metadata": {},
   "outputs": [],
   "source": [
    "#Checing the format to make the call\n",
    "\n",
    "def jprint(obj):\n",
    "    text = json.dumps(obj, sort_keys = True, indent = 4)\n",
    "    print(text)\n",
    "\n",
    "jprint(r.json())"
   ]
  },
  {
   "cell_type": "markdown",
   "metadata": {},
   "source": [
    "#### Scrapping the names of all the Artists"
   ]
  },
  {
   "cell_type": "code",
   "execution_count": null,
   "metadata": {},
   "outputs": [],
   "source": [
    "results = []\n",
    "page = 1\n",
    "total_pages = 99999 \n",
    "\n",
    "while (page <= total_pages):\n",
    "    payload = {\n",
    "        #the parameters are from the:\n",
    "        ##https://www.last.fm/api/show/chart.getTopArtists\n",
    "        'api_key':'api_key',\n",
    "        'format':'json',\n",
    "        'method': 'chart.gettopartists',\n",
    "        'limit': 500,\n",
    "        'page': page\n",
    "    }\n",
    "    \n",
    "    print(page,' out of ', total_pages)\n",
    "\n",
    "    #Making the call\n",
    "    result = requests.get('http://ws.audioscrobbler.com/2.0/'\n",
    "                            , headers = {'user-agent': 'fil_theo'}\n",
    "                            , params = payload)\n",
    "    \n",
    "    # If sth goes wrong\n",
    "    if result.status_code != 200:\n",
    "        print(response.text)\n",
    "        break\n",
    "        \n",
    "    page = int(result.json()['artists']['@attr']['page'])\n",
    "    total_pages = int(result.json()['artists']['@attr']['totalPages'])\n",
    "    results.append(result)\n",
    "    \n",
    "    #This stops the error of making consecutive requests\n",
    "    if not getattr(result, 'from_cache', False):\n",
    "        time.sleep(0.25)\n",
    "        \n",
    "    #next page\n",
    "    page =page + 1"
   ]
  },
  {
   "cell_type": "markdown",
   "metadata": {},
   "source": [
    "#### Merging the pages and creating the dataframe"
   ]
  },
  {
   "cell_type": "code",
   "execution_count": null,
   "metadata": {},
   "outputs": [],
   "source": [
    "pages = [pd.DataFrame(r.json()['artists']['artist']) for r in responses]\n",
    "artists = pd.concat(pages)\n",
    "artists"
   ]
  },
  {
   "cell_type": "markdown",
   "metadata": {},
   "source": [
    "#### Checking the format for the tags for every Artist"
   ]
  },
  {
   "cell_type": "code",
   "execution_count": null,
   "metadata": {},
   "outputs": [],
   "source": [
    "\n",
    "r = lastfm_get({\n",
    "    'method': 'artist.getTopTags',\n",
    "    'artist':  'Lana Del Rey'\n",
    "})\n",
    "jprint(r.json())"
   ]
  },
  {
   "cell_type": "markdown",
   "metadata": {},
   "source": [
    "#### Scrapping the top 4 tags for every Artist"
   ]
  },
  {
   "cell_type": "code",
   "execution_count": null,
   "metadata": {},
   "outputs": [],
   "source": [
    "#Function to get tags for every artist\n",
    "def get_tags(artist):\n",
    "    payload={'method': 'artist.getTopTags',\n",
    "        'artist':  artist,\n",
    "        'api_key':'api_key',\n",
    "        'format':'json',}\n",
    "    result = requests.get('http://ws.audioscrobbler.com/2.0/'\n",
    "                            , headers={'user-agent': 'fil_theo'}\n",
    "                            ,params=payload)\n",
    "    \n",
    "\n",
    "    # Stop for error\n",
    "    if result.status_code != 200:\n",
    "        return None\n",
    "\n",
    "    #Get the top 4 tags\n",
    "    tags = [t['name'] for t in result.json()['toptags']['tag'][:4]]\n",
    "    tags_str = ', '.join(tags)\n",
    "\n",
    "    #Responses error\n",
    "    if not getattr(response, 'from_cache', False):\n",
    "        time.sleep(0.25)\n",
    "    return tags_str\n",
    "\n",
    "#Making the call for every every artist:\n",
    "artists['tags'] = artists['name'].progress_apply(get_tags)"
   ]
  },
  {
   "cell_type": "markdown",
   "metadata": {},
   "source": [
    "#### Saving and Downloading"
   ]
  },
  {
   "cell_type": "code",
   "execution_count": null,
   "metadata": {},
   "outputs": [],
   "source": [
    "import os\n",
    "\n",
    "outname = 'artists.csv'\n",
    "\n",
    "outdir = 'D:/uni/'\n",
    "if not os.path.exists(outdir):\n",
    "    os.mkdir(outdir)\n",
    "fullname = os.path.join(outdir, outname) \n",
    "artists.to_csv(fullname)"
   ]
  }
 ],
 "metadata": {
  "kernelspec": {
   "display_name": "Python 3",
   "language": "python",
   "name": "python3"
  },
  "language_info": {
   "codemirror_mode": {
    "name": "ipython",
    "version": 3
   },
   "file_extension": ".py",
   "mimetype": "text/x-python",
   "name": "python",
   "nbconvert_exporter": "python",
   "pygments_lexer": "ipython3",
   "version": "3.7.4"
  }
 },
 "nbformat": 4,
 "nbformat_minor": 2
}
